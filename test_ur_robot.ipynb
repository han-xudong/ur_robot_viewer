{
 "cells": [
  {
   "cell_type": "markdown",
   "metadata": {},
   "source": [
    "# Test UR Robot"
   ]
  },
  {
   "cell_type": "code",
   "execution_count": null,
   "metadata": {},
   "outputs": [],
   "source": [
    "import rtde_control\n",
    "import rtde_receive\n",
    "import numpy as np\n",
    "import yaml\n",
    "import zmq\n",
    "from interface.protobuf import robot_pb2\n",
    "\n",
    "# Set up the RTDE connection\n",
    "with open(\"config/address.yaml\", \"r\") as f:\n",
    "    robot_ip = yaml.load(f.read(), Loader=yaml.Loader)[\"robot_ip\"]\n",
    "rtde_r = rtde_receive.RTDEReceiveInterface(robot_ip)\n",
    "rtde_c = rtde_control.RTDEControlInterface(robot_ip)"
   ]
  },
  {
   "cell_type": "code",
   "execution_count": null,
   "metadata": {},
   "outputs": [],
   "source": [
    "class RobotPublisher:\n",
    "    def __init__(self):\n",
    "        self.context = zmq.Context()\n",
    "        self.socket = self.context.socket(zmq.PUB)\n",
    "        self.socket.bind(\"tcp://*:5555\")\n",
    "        \n",
    "        self.robot = robot_pb2.Robot()\n",
    "\n",
    "    def publish_robot_data(self, joint_angles: list, joint_velocities: list, tcp_pose: list):\n",
    "        self.robot.joint_angles[:] = joint_angles\n",
    "        self.robot.joint_velocities[:] = joint_velocities\n",
    "        self.robot.tcp_pose[:] = tcp_pose\n",
    "        \n",
    "        self.socket.send(self.robot.SerializeToString())"
   ]
  },
  {
   "cell_type": "markdown",
   "metadata": {},
   "source": [
    "## Robot State Visualization"
   ]
  },
  {
   "cell_type": "markdown",
   "metadata": {},
   "source": [
    "This part is to visualize the robot state when human teaches the robot."
   ]
  },
  {
   "cell_type": "code",
   "execution_count": null,
   "metadata": {},
   "outputs": [],
   "source": [
    "def read_robot_data(rtde_r):\n",
    "    joint_angles = rtde_r.getActualQ()\n",
    "    joint_velocities = rtde_r.getActualQd()\n",
    "    tcp_pose = rtde_r.getActualTCPPose()\n",
    "    return joint_angles, joint_velocities, tcp_pose\n",
    "\n",
    "def main():\n",
    "    robot_publisher = RobotPublisher()\n",
    "    try:\n",
    "        while True:\n",
    "            joint_angles, joint_velocities, tcp_pose = read_robot_data(rtde_r)\n",
    "            robot_publisher.publish_robot_data(joint_angles, joint_velocities, tcp_pose)\n",
    "    except KeyboardInterrupt:\n",
    "        pass"
   ]
  },
  {
   "cell_type": "markdown",
   "metadata": {},
   "source": [
    "## Move to Point"
   ]
  },
  {
   "cell_type": "code",
   "execution_count": null,
   "metadata": {},
   "outputs": [],
   "source": [
    "target_point = np.array([0.5, 0.5, 0.5, 0, 0, 0])\n",
    "move_vel = 0.1\n",
    "move_acc = 0.3\n",
    "rtde_c.moveL(target_point, move_vel, move_acc, False)"
   ]
  }
 ],
 "metadata": {
  "kernelspec": {
   "display_name": "ur_rtde",
   "language": "python",
   "name": "python3"
  },
  "language_info": {
   "codemirror_mode": {
    "name": "ipython",
    "version": 3
   },
   "file_extension": ".py",
   "mimetype": "text/x-python",
   "name": "python",
   "nbconvert_exporter": "python",
   "pygments_lexer": "ipython3",
   "version": "3.10.16"
  }
 },
 "nbformat": 4,
 "nbformat_minor": 2
}
