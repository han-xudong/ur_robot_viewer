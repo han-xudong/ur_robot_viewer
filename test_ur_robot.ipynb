{
 "cells": [
  {
   "cell_type": "markdown",
   "metadata": {},
   "source": [
    "# Test UR Robot"
   ]
  },
  {
   "cell_type": "code",
   "execution_count": 1,
   "metadata": {},
   "outputs": [],
   "source": [
    "import time\n",
    "import rtde_control\n",
    "import rtde_receive\n",
    "import numpy as np\n",
    "import yaml\n",
    "import zmq\n",
    "from interface.protobuf import robot_pb2"
   ]
  },
  {
   "cell_type": "code",
   "execution_count": 2,
   "metadata": {},
   "outputs": [],
   "source": [
    "\n",
    "# Set up the RTDE connection\n",
    "with open(\"config/address.yaml\", \"r\") as f:\n",
    "    robot_ip = yaml.load(f.read(), Loader=yaml.Loader)[\"robot_ip\"]\n",
    "rtde_r = rtde_receive.RTDEReceiveInterface(robot_ip)\n",
    "# rtde_c = rtde_control.RTDEControlInterface(robot_ip)"
   ]
  },
  {
   "cell_type": "code",
   "execution_count": 4,
   "metadata": {},
   "outputs": [],
   "source": [
    "class RobotPublisher:\n",
    "    def __init__(self):\n",
    "        self.context = zmq.Context()\n",
    "        self.socket = self.context.socket(zmq.PUB)\n",
    "        self.socket.bind(\"tcp://*:5555\")\n",
    "        \n",
    "        self.robot = robot_pb2.Robot()\n",
    "\n",
    "    def publish_robot_data(self, joint_angles: list, joint_velocities: list, tcp_pose: list, tcp_velocity: list, tcp_force: list):\n",
    "        self.robot.joint_angles[:] = joint_angles\n",
    "        self.robot.joint_velocities[:] = joint_velocities\n",
    "        self.robot.tcp_pose[:] = tcp_pose\n",
    "        self.robot.tcp_velocity[:] = tcp_velocity\n",
    "        self.robot.tcp_force[:] = tcp_force\n",
    "        \n",
    "        self.socket.send(self.robot.SerializeToString())"
   ]
  },
  {
   "cell_type": "markdown",
   "metadata": {},
   "source": [
    "## Robot State Visualization"
   ]
  },
  {
   "cell_type": "markdown",
   "metadata": {},
   "source": [
    "This part is to visualize the robot state when human teaches the robot."
   ]
  },
  {
   "cell_type": "code",
   "execution_count": 5,
   "metadata": {},
   "outputs": [
    {
     "name": "stderr",
     "output_type": "stream",
     "text": [
      "RTDEReceiveInterface boost system Exception: (asio.misc:2) End of file\n"
     ]
    }
   ],
   "source": [
    "def read_robot_data(rtde_r):\n",
    "    joint_angles = rtde_r.getActualQ()\n",
    "    joint_velocities = rtde_r.getActualQd()\n",
    "    tcp_pose = rtde_r.getActualTCPPose()\n",
    "    tcp_velocity = rtde_r.getActualTCPSpeed()\n",
    "    tcp_force = rtde_r.getActualTCPForce()\n",
    "    return joint_angles, joint_velocities, tcp_pose, tcp_velocity, tcp_force\n",
    "\n",
    "def main(fps=100):\n",
    "    robot_publisher = RobotPublisher()\n",
    "    start_time = time.time()\n",
    "    try:\n",
    "        while True:\n",
    "            start_time = time.time()\n",
    "            \n",
    "            joint_angles, joint_velocities, tcp_pose, tcp_velocity, tcp_force = read_robot_data(rtde_r)\n",
    "            robot_publisher.publish_robot_data(joint_angles, joint_velocities, tcp_pose, tcp_velocity, tcp_force)\n",
    "            \n",
    "            elapsed_time = time.time() - start_time\n",
    "            sleep_time = max(1.0 / fps - elapsed_time, 0)\n",
    "            time.sleep(sleep_time)\n",
    "    except KeyboardInterrupt:\n",
    "        pass\n",
    "\n",
    "main(60)"
   ]
  }
 ],
 "metadata": {
  "kernelspec": {
   "display_name": "ur_rtde",
   "language": "python",
   "name": "python3"
  },
  "language_info": {
   "codemirror_mode": {
    "name": "ipython",
    "version": 3
   },
   "file_extension": ".py",
   "mimetype": "text/x-python",
   "name": "python",
   "nbconvert_exporter": "python",
   "pygments_lexer": "ipython3",
   "version": "3.10.16"
  }
 },
 "nbformat": 4,
 "nbformat_minor": 2
}
