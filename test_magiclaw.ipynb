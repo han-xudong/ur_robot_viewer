{
 "cells": [
  {
   "cell_type": "code",
   "execution_count": 10,
   "id": "8b6f3cc9",
   "metadata": {},
   "outputs": [],
   "source": [
    "import os\n",
    "import time\n",
    "import numpy as np\n",
    "from ur_teleop.devices.magiclaw import MagiClawSubscriber\n",
    "from scipy.spatial.transform import Rotation as R\n",
    "\n",
    "data_dir = \"data\"\n",
    "if not os.path.exists(data_dir):\n",
    "    os.makedirs(data_dir)"
   ]
  },
  {
   "cell_type": "code",
   "execution_count": 11,
   "id": "e9d10237",
   "metadata": {},
   "outputs": [
    {
     "name": "stdout",
     "output_type": "stream",
     "text": [
      "---------------------- MagiClaw Subscriber Initialization ----------------------\n",
      "Address: tcp://192.168.31.39:6300\n",
      "Package Claw\n",
      "Message Motor\n",
      "{\n",
      "\tfloat angle = 1;\n",
      "\tfloat speed = 2;\n",
      "\tfloat iq = 3;\n",
      "\tint32 temperature = 4;\n",
      "}\n",
      "Message Claw\n",
      "{\n",
      "\tfloat angle = 1;\n",
      "\tMotor motor = 2;\n",
      "}\n",
      "Message Finger\n",
      "{\n",
      "\tbytes img = 1;\n",
      "\trepeated float pose = 2;\n",
      "\trepeated float force = 3;\n",
      "\trepeated float node = 4;\n",
      "}\n",
      "Message Phone\n",
      "{\n",
      "\tbytes color_img = 1;\n",
      "\trepeated int32 depth_img = 2\n",
      "\trepeated int32 depth_width = 3\n",
      "\trepeated int32 depth_height = 4\n",
      "}\n",
      "Message MagiClaw\n",
      "{\n",
      "\tfloat timestamp = 1;\n",
      "\tClaw claw = 2;\n",
      "\tFinger finger_0 = 3;\n",
      "\tFinger finger_1 = 4;\n",
      "\tPhone phone = 5;\n",
      "}\n",
      "Claw Subscriber Initialization Done.\n",
      "--------------------------------------------------------------------------------\n"
     ]
    }
   ],
   "source": [
    "magiclaw_subscriber = MagiClawSubscriber(host=\"192.168.31.39\", port=6300)"
   ]
  },
  {
   "cell_type": "code",
   "execution_count": 19,
   "id": "e365f46c",
   "metadata": {},
   "outputs": [
    {
     "name": "stdout",
     "output_type": "stream",
     "text": [
      "Data collection stopped by user.or Angle:   498.38 degree, Motor Speed:        0 dps, Motor IQ:     1.16 A\n"
     ]
    }
   ],
   "source": [
    "time_list = []\n",
    "claw_angle_list = []\n",
    "motor_angle_list = []\n",
    "motor_speed_list = []\n",
    "motor_iq_list = []\n",
    "magiclaw_pose_list = []\n",
    "\n",
    "timestamp = time.strftime(\"%Y%m%d_%H%M%S\")\n",
    "try:\n",
    "    while True:\n",
    "        # Subscribe message from the MagicLaw device\n",
    "        claw_angle, motor_angle, motor_speed, motor_iq, magiclaw_pose = magiclaw_subscriber.subscribeMessage()\n",
    "        \n",
    "        # Append the data to the lists\n",
    "        time_list.append(time.time())\n",
    "        claw_angle_list.append(claw_angle)\n",
    "        motor_angle_list.append(motor_angle)\n",
    "        motor_speed_list.append(motor_speed)\n",
    "        motor_iq_list.append(motor_iq)\n",
    "        magiclaw_pose_list.append(magiclaw_pose)\n",
    "        \n",
    "        # Print data\n",
    "        print(f\"Claw Angle: {claw_angle: 8.2f} degree, Motor Angle: {motor_angle: 8.2f} degree, Motor Speed: {motor_speed: 8.0f} dps, Motor IQ: {motor_iq: 8.2f} A\", end='\\r')\n",
    "        \n",
    "except KeyboardInterrupt:\n",
    "    print(\"Data collection stopped by user.\")\n",
    "\n",
    "# Save the collected data to files\n",
    "timestamp = time.strftime(\"%Y%m%d_%H%M%S\")\n",
    "os.makedirs(os.path.join(data_dir, timestamp), exist_ok=True)\n",
    "np.savetxt(os.path.join(data_dir, timestamp, \"time.txt\"), time_list, fmt='%.6f')\n",
    "np.savetxt(os.path.join(data_dir, timestamp, \"claw_angle.txt\"), claw_angle_list, fmt='%.6f')\n",
    "np.savetxt(os.path.join(data_dir, timestamp, \"motor_angle.txt\"), motor_angle_list, fmt='%.6f')\n",
    "np.savetxt(os.path.join(data_dir, timestamp, \"motor_speed.txt\"), motor_speed_list, fmt='%.6f')\n",
    "np.savetxt(os.path.join(data_dir, timestamp, \"motor_iq.txt\"), motor_iq_list, fmt='%.6f')\n",
    "np.savetxt(os.path.join(data_dir, timestamp, \"magiclaw_pose.txt\"), magiclaw_pose_list, fmt='%.6f')"
   ]
  }
 ],
 "metadata": {
  "kernelspec": {
   "display_name": "ur_rtde",
   "language": "python",
   "name": "python3"
  },
  "language_info": {
   "codemirror_mode": {
    "name": "ipython",
    "version": 3
   },
   "file_extension": ".py",
   "mimetype": "text/x-python",
   "name": "python",
   "nbconvert_exporter": "python",
   "pygments_lexer": "ipython3",
   "version": "3.10.18"
  }
 },
 "nbformat": 4,
 "nbformat_minor": 5
}
